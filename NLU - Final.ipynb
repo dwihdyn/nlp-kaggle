{
 "cells": [
  {
   "cell_type": "markdown",
   "metadata": {},
   "source": [
    "- google drive source : https://drive.google.com/drive/folders/1ozzAQWn5U7XW2rIkPB963azowVZvzT3a\n",
    "- lecture : https://www.youtube.com/watch?v=nXbtY3uMyLw\n",
    "- 2 kaggle source attached to each \"mini-project\""
   ]
  },
  {
   "cell_type": "markdown",
   "metadata": {},
   "source": [
    "# Natural Language Understanding "
   ]
  },
  {
   "cell_type": "markdown",
   "metadata": {},
   "source": [
    "## Data Cleaning"
   ]
  },
  {
   "cell_type": "markdown",
   "metadata": {},
   "source": [
    "*Generic Data cleaning steps to take:*\n",
    "\n",
    "**1. Converting text to lower case** \n",
    "* if your data is case insensitive, you'll need to consider your usecase as well\n",
    "* some exceptions, if there're acronyms, which may lose their meaning if converted to word, e.g. in german language, MIT (university) vs mit (german for with)\n",
    "\n",
    "**2. Removing punctuations**\n",
    "* exceptions, twitter data, where punctuations may be good in showing sentiment\n",
    "\n",
    "**3. Removing any numerical values**\n",
    "\n",
    "**4. Tokenize text**\n",
    "* different ways to tokenize the text\n",
    "\n",
    "**5. Remove stop words**\n",
    "* stop words can be altered to be usecase specific, \n",
    "* e.g. adding restaurant name to list of stopwords for restaurant review, as the people will usually give the restaurant name in the review\n",
    "* e.g. twitter you may want to add words like 'RT' 'Retweet' etc for tweets\n",
    "\n",
    "\n",
    "**6. Stemming / lemmatization** \n",
    "* different variation of words due to suffix, but the meaning of the word is the same, use of the word is identical, to prevent duplication of words being stored and improve efficiency\n",
    "* lemmatization result is a proper word, unlike stemming\n",
    "\n",
    "\n",
    "**7. Parts of speech tagging**\n",
    "* good for identifying, summarising, to get e.g. retrieval of nouns from large pieces of texts (NNP)\n",
    "\n",
    "**8. Create bi-grams or tri-grams**\n",
    "\n",
    "**9. Deal with typos and spelling mistakes**\n",
    "\n",
    "Free GPU given in Google Colab. hence build your ML models there"
   ]
  },
  {
   "cell_type": "markdown",
   "metadata": {},
   "source": [
    "Natural Language Toolkit (nltk) : https://www.nltk.org/index.html"
   ]
  },
  {
   "cell_type": "markdown",
   "metadata": {},
   "source": [
    "## Configuration to download sample dataset "
   ]
  },
  {
   "cell_type": "code",
   "execution_count": 2,
   "metadata": {},
   "outputs": [
    {
     "name": "stdout",
     "output_type": "stream",
     "text": [
      "showing info https://raw.githubusercontent.com/nltk/nltk_data/gh-pages/index.xml\n"
     ]
    },
    {
     "data": {
      "text/plain": [
       "True"
      ]
     },
     "execution_count": 2,
     "metadata": {},
     "output_type": "execute_result"
    }
   ],
   "source": [
    "# # run me only once\n",
    "# !pip install nltk\n",
    "# nltk.download()   # change path to to C:\\nltk_data (Windows), /usr/local/share/nltk_data (Mac), or /usr/share/nltk_data (Unix) and download all"
   ]
  },
  {
   "cell_type": "markdown",
   "metadata": {},
   "source": [
    "## Import & explore sample dataset"
   ]
  },
  {
   "cell_type": "code",
   "execution_count": 1,
   "metadata": {},
   "outputs": [
    {
     "name": "stdout",
     "output_type": "stream",
     "text": [
      "*** Introductory Examples for the NLTK Book ***\n",
      "Loading text1, ..., text9 and sent1, ..., sent9\n",
      "Type the name of the text or sentence to view it.\n",
      "Type: 'texts()' or 'sents()' to list the materials.\n",
      "text1: Moby Dick by Herman Melville 1851\n",
      "text2: Sense and Sensibility by Jane Austen 1811\n",
      "text3: The Book of Genesis\n",
      "text4: Inaugural Address Corpus\n",
      "text5: Chat Corpus\n",
      "text6: Monty Python and the Holy Grail\n",
      "text7: Wall Street Journal\n",
      "text8: Personals Corpus\n",
      "text9: The Man Who Was Thursday by G . K . Chesterton 1908\n"
     ]
    }
   ],
   "source": [
    "import nltk\n",
    "from nltk.book import *\n",
    "\n"
   ]
  },
  {
   "cell_type": "code",
   "execution_count": 16,
   "metadata": {},
   "outputs": [
    {
     "name": "stdout",
     "output_type": "stream",
     "text": [
      "text1: Moby Dick by Herman Melville 1851\n",
      "text2: Sense and Sensibility by Jane Austen 1811\n",
      "text3: The Book of Genesis\n",
      "text4: Inaugural Address Corpus\n",
      "text5: Chat Corpus\n",
      "text6: Monty Python and the Holy Grail\n",
      "text7: Wall Street Journal\n",
      "text8: Personals Corpus\n",
      "text9: The Man Who Was Thursday by G . K . Chesterton 1908\n"
     ]
    }
   ],
   "source": [
    "# return list of books\n",
    "texts()"
   ]
  },
  {
   "cell_type": "code",
   "execution_count": 17,
   "metadata": {},
   "outputs": [
    {
     "name": "stdout",
     "output_type": "stream",
     "text": [
      "sent1: Call me Ishmael .\n",
      "sent2: The family of Dashwood had long been settled in Sussex .\n",
      "sent3: In the beginning God created the heaven and the earth .\n",
      "sent4: Fellow - Citizens of the Senate and of the House of Representatives :\n",
      "sent5: I have a problem with people PMing me to lol JOIN\n",
      "sent6: SCENE 1 : [ wind ] [ clop clop clop ] KING ARTHUR : Whoa there !\n",
      "sent7: Pierre Vinken , 61 years old , will join the board as a nonexecutive director Nov. 29 .\n",
      "sent8: 25 SEXY MALE , seeks attrac older single lady , for discreet encounters .\n",
      "sent9: THE suburb of Saffron Park lay on the sunset side of London , as red and ragged as a cloud of sunset .\n"
     ]
    }
   ],
   "source": [
    "# return list of sentences materials\n",
    "sents()"
   ]
  },
  {
   "cell_type": "code",
   "execution_count": 4,
   "metadata": {},
   "outputs": [
    {
     "data": {
      "text/plain": [
       "<Text: Personals Corpus>"
      ]
     },
     "execution_count": 4,
     "metadata": {},
     "output_type": "execute_result"
    }
   ],
   "source": [
    "# get book number 1 : Moby Dick\n",
    "text1"
   ]
  },
  {
   "cell_type": "code",
   "execution_count": 12,
   "metadata": {},
   "outputs": [
    {
     "name": "stdout",
     "output_type": "stream",
     "text": [
      "true contemptible christian abundant few part mean careful puzzled\n",
      "mystifying passing curious loving wise doleful gamesome singular\n",
      "delightfully perilous fearless\n"
     ]
    }
   ],
   "source": [
    "# returns a list of words that appear in the same context as \"monstrous\"\n",
    "text1.similar(\"monstrous\")\n"
   ]
  },
  {
   "cell_type": "code",
   "execution_count": 11,
   "metadata": {},
   "outputs": [
    {
     "name": "stdout",
     "output_type": "stream",
     "text": [
      "Displaying 11 of 11 matches:\n",
      "ong the former , one was of a most monstrous size . ... This came towards us , \n",
      "ON OF THE PSALMS . \" Touching that monstrous bulk of the whale or ork we have r\n",
      "ll over with a heathenish array of monstrous clubs and spears . Some were thick\n",
      "d as you gazed , and wondered what monstrous cannibal and savage could ever hav\n",
      "that has survived the flood ; most monstrous and most mountainous ! That Himmal\n",
      "they might scout at Moby Dick as a monstrous fable , or still worse and more de\n",
      "th of Radney .'\" CHAPTER 55 Of the Monstrous Pictures of Whales . I shall ere l\n",
      "ing Scenes . In connexion with the monstrous pictures of whales , I am strongly\n",
      "ere to enter upon those still more monstrous stories of them which are to be fo\n",
      "ght have been rummaged out of this monstrous cabinet there is no telling . But \n",
      "of Whale - Bones ; for Whales of a monstrous size are oftentimes cast up dead u\n"
     ]
    }
   ],
   "source": [
    "# returns the sentences where \"monstrous\" appears\n",
    "text1.concordance(\"monstrous\")"
   ]
  },
  {
   "cell_type": "markdown",
   "metadata": {},
   "source": [
    "## Tokenisation"
   ]
  },
  {
   "cell_type": "markdown",
   "metadata": {},
   "source": [
    "Taking a text or set of text and breaking it up into smaller tokens, this could be a sentence,  bigram (n-grams), word, character etc. A token is a single entity.\n",
    "\n",
    "There are different methods to tokenise text:\n",
    "\n",
    "https://www.nltk.org/api/nltk.tokenize.html"
   ]
  },
  {
   "cell_type": "code",
   "execution_count": 2,
   "metadata": {
    "ExecuteTime": {
     "end_time": "2020-06-06T19:11:54.602174Z",
     "start_time": "2020-06-06T19:07:02.820069Z"
    }
   },
   "outputs": [],
   "source": [
    "from nltk.tokenize import sent_tokenize, word_tokenize,wordpunct_tokenize, TweetTokenizer,RegexpTokenizer\n",
    "from nltk.probability import FreqDist\n",
    "from nltk.corpus import stopwords\n",
    "from nltk.stem.wordnet import WordNetLemmatizer\n",
    "from nltk.stem.porter import PorterStemmer\n",
    "import matplotlib.pyplot as plt\n",
    "import pandas as pd\n",
    "from sklearn.feature_extraction.text import CountVectorizer\n",
    "from sklearn.model_selection import train_test_split\n",
    "from sklearn.naive_bayes import MultinomialNB\n",
    "from sklearn import metrics #accuracy calculation\n",
    "from sklearn.feature_extraction.text import TfidfVectorizer\n",
    "from sklearn.model_selection import train_test_split"
   ]
  },
  {
   "cell_type": "markdown",
   "metadata": {},
   "source": [
    "### Sentence Tokeniser : Breaking down a paragraph into multiple sentences\n",
    "\n",
    "Using `sent_tokenize` & Loops"
   ]
  },
  {
   "cell_type": "code",
   "execution_count": 3,
   "metadata": {
    "ExecuteTime": {
     "end_time": "2020-06-06T18:48:18.103352Z",
     "start_time": "2020-06-06T18:48:18.098808Z"
    }
   },
   "outputs": [
    {
     "name": "stdout",
     "output_type": "stream",
     "text": [
      "'Welcome Mr. Smith' she said.\n",
      "'I had not heard that folk of the Shire were so sweet-tongued.\n",
      "But I see that you are an Elf-friend; the light in your eyes and the ring in your voice tells it.\n",
      "This is a merry meeting!\n",
      "Sit now, and wait for the Master of the house!\n",
      "He will not be long.\n",
      "He is tending your tired beasts.'\n"
     ]
    }
   ],
   "source": [
    "text=\"\"\"'Welcome Mr. Smith' she said. 'I had not heard that folk of the Shire were so sweet-tongued. \n",
    "But I see that you are an Elf-friend; the light in your eyes and the ring in your voice tells it. \n",
    "This is a merry meeting! Sit now, and wait for the Master of the house! He will not be long. \n",
    "He is tending your tired beasts.'\"\"\"\n",
    "\n",
    "#excerpt taken from Lord of the Rings\n",
    "tokenized_text = sent_tokenize(text)\n",
    "for i in tokenized_text:\n",
    "    print(i)"
   ]
  },
  {
   "cell_type": "markdown",
   "metadata": {},
   "source": [
    "### *Word Tokeniser : Breaking down paragraph into each words\n",
    "\n",
    "Using `word_tokenize` & Loops"
   ]
  },
  {
   "cell_type": "code",
   "execution_count": 4,
   "metadata": {
    "ExecuteTime": {
     "end_time": "2020-06-06T18:48:20.843526Z",
     "start_time": "2020-06-06T18:48:20.836979Z"
    }
   },
   "outputs": [
    {
     "name": "stdout",
     "output_type": "stream",
     "text": [
      "'Welcome\n",
      "Mr.\n",
      "Smith\n",
      "'\n",
      "she\n",
      "said\n",
      ".\n",
      "'\n",
      "I\n",
      "had\n",
      "not\n",
      "heard\n",
      "that\n",
      "folk\n",
      "of\n",
      "the\n",
      "Shire\n",
      "were\n",
      "so\n",
      "sweet-tongued\n",
      ".\n",
      "But\n",
      "I\n",
      "see\n",
      "that\n",
      "you\n",
      "are\n",
      "an\n",
      "Elf-friend\n",
      ";\n",
      "the\n",
      "light\n",
      "in\n",
      "your\n",
      "eyes\n",
      "and\n",
      "the\n",
      "ring\n",
      "in\n",
      "your\n",
      "voice\n",
      "tells\n",
      "it\n",
      ".\n",
      "This\n",
      "is\n",
      "a\n",
      "merry\n",
      "meeting\n",
      "!\n",
      "Sit\n",
      "now\n",
      ",\n",
      "and\n",
      "wait\n",
      "for\n",
      "the\n",
      "Master\n",
      "of\n",
      "the\n",
      "house\n",
      "!\n",
      "He\n",
      "will\n",
      "not\n",
      "be\n",
      "long\n",
      ".\n",
      "He\n",
      "is\n",
      "tending\n",
      "your\n",
      "tired\n",
      "beasts\n",
      ".\n",
      "'\n"
     ]
    }
   ],
   "source": [
    "tokenized_word = word_tokenize(text)\n",
    "for i in tokenized_word:\n",
    "    print(i)"
   ]
  },
  {
   "cell_type": "markdown",
   "metadata": {},
   "source": [
    "### *Tweet Tokeniser : Breaking down user tweet to every word (and emojis)\n",
    "\n",
    "If you use `word_tokenize` here, it wont be able to detect the emojis & partitioned that to each pieces (below example shown)"
   ]
  },
  {
   "cell_type": "code",
   "execution_count": 5,
   "metadata": {},
   "outputs": [
    {
     "name": "stdout",
     "output_type": "stream",
     "text": [
      "This\n",
      "is\n",
      "a\n",
      "cooool\n",
      "#hashtag1\n",
      "@someone\n",
      "#dummysmiley\n",
      ":\n",
      ":)\n",
      ":-)\n",
      ":-P\n",
      "<3\n",
      "and\n",
      "some\n",
      "arrows\n",
      "<\n",
      ">\n",
      "->\n",
      "<--\n"
     ]
    }
   ],
   "source": [
    "tokeniser = TweetTokenizer()\n",
    "tweet = \"This is a cooool #hashtag1 @someone #dummysmiley: :) :-) :-P <3 and some arrows < > -> <--\"\n",
    "tokenized_tweet = tokeniser.tokenize(tweet)\n",
    "for i in tokenized_tweet:\n",
    "    print(i)"
   ]
  },
  {
   "cell_type": "code",
   "execution_count": 6,
   "metadata": {},
   "outputs": [
    {
     "name": "stdout",
     "output_type": "stream",
     "text": [
      "This\n",
      "is\n",
      "a\n",
      "cooool\n",
      "#\n",
      "hashtag1\n",
      "@\n",
      "someone\n",
      "#\n",
      "dummysmiley\n",
      ":\n",
      ":\n",
      ")\n",
      ":\n",
      "-\n",
      ")\n",
      ":\n",
      "-P\n",
      "<\n",
      "3\n",
      "and\n",
      "some\n",
      "arrows\n",
      "<\n",
      ">\n",
      "-\n",
      ">\n",
      "<\n",
      "--\n"
     ]
    }
   ],
   "source": [
    "# trying to tokenize tweet with word_tokenise\n",
    "\n",
    "tokenized_tweet_v2 = word_tokenize(tweet)\n",
    "for i in tokenized_tweet_v2:\n",
    "    print(i)"
   ]
  },
  {
   "cell_type": "markdown",
   "metadata": {},
   "source": [
    "# Basic Exploratory Data Analysis (EDA)"
   ]
  },
  {
   "cell_type": "markdown",
   "metadata": {},
   "source": [
    "### Frequency Distribution `FreqDist()`\n",
    "From nltk, this runs on an array of tokens (created by the tokeniser above)\n",
    "The purpose is to find the frequency of the tokens across the document"
   ]
  },
  {
   "cell_type": "code",
   "execution_count": 7,
   "metadata": {
    "scrolled": true
   },
   "outputs": [
    {
     "data": {
      "text/plain": [
       "76"
      ]
     },
     "execution_count": 7,
     "metadata": {},
     "output_type": "execute_result"
    }
   ],
   "source": [
    "len(tokenized_word)"
   ]
  },
  {
   "cell_type": "code",
   "execution_count": 8,
   "metadata": {},
   "outputs": [
    {
     "data": {
      "text/plain": [
       "55"
      ]
     },
     "execution_count": 8,
     "metadata": {},
     "output_type": "execute_result"
    }
   ],
   "source": [
    "len(set(tokenized_word))"
   ]
  },
  {
   "cell_type": "code",
   "execution_count": 9,
   "metadata": {},
   "outputs": [
    {
     "name": "stdout",
     "output_type": "stream",
     "text": [
      "<FreqDist with 55 samples and 76 outcomes>\n"
     ]
    },
    {
     "data": {
      "text/plain": [
       "FreqDist({'.': 5, 'the': 5, \"'\": 3, 'your': 3, 'I': 2, 'not': 2, 'that': 2, 'of': 2, 'in': 2, 'and': 2, ...})"
      ]
     },
     "execution_count": 9,
     "metadata": {},
     "output_type": "execute_result"
    }
   ],
   "source": [
    "# count the frequency of each token appeared in the paragraph\n",
    "\n",
    "freqdist = FreqDist(tokenized_word)\n",
    "print(freqdist)\n",
    "freqdist"
   ]
  },
  {
   "cell_type": "code",
   "execution_count": 10,
   "metadata": {},
   "outputs": [
    {
     "data": {
      "text/plain": [
       "dict_keys([\"'Welcome\", 'Mr.', 'Smith', \"'\", 'she', 'said', '.', 'I', 'had', 'not', 'heard', 'that', 'folk', 'of', 'the', 'Shire', 'were', 'so', 'sweet-tongued', 'But', 'see', 'you', 'are', 'an', 'Elf-friend', ';', 'light', 'in', 'your', 'eyes', 'and', 'ring', 'voice', 'tells', 'it', 'This', 'is', 'a', 'merry', 'meeting', '!', 'Sit', 'now', ',', 'wait', 'for', 'Master', 'house', 'He', 'will', 'be', 'long', 'tending', 'tired', 'beasts'])"
      ]
     },
     "execution_count": 10,
     "metadata": {},
     "output_type": "execute_result"
    }
   ],
   "source": [
    "# return the keys of the frequency dict\n",
    "freqdist.keys()"
   ]
  },
  {
   "cell_type": "code",
   "execution_count": 11,
   "metadata": {},
   "outputs": [
    {
     "data": {
      "text/plain": [
       "dict_values([1, 1, 1, 3, 1, 1, 5, 2, 1, 2, 1, 2, 1, 2, 5, 1, 1, 1, 1, 1, 1, 1, 1, 1, 1, 1, 1, 2, 3, 1, 2, 1, 1, 1, 1, 1, 2, 1, 1, 1, 2, 1, 1, 1, 1, 1, 1, 1, 2, 1, 1, 1, 1, 1, 1])"
      ]
     },
     "execution_count": 11,
     "metadata": {},
     "output_type": "execute_result"
    }
   ],
   "source": [
    "# return the values of the frequency dict\n",
    "freqdist.values()"
   ]
  },
  {
   "cell_type": "code",
   "execution_count": 12,
   "metadata": {},
   "outputs": [
    {
     "data": {
      "text/plain": [
       "1"
      ]
     },
     "execution_count": 12,
     "metadata": {},
     "output_type": "execute_result"
    }
   ],
   "source": [
    "# return how many times the word 'merry' shows in the paragraph\n",
    "freqdist['merry']"
   ]
  },
  {
   "cell_type": "code",
   "execution_count": 13,
   "metadata": {},
   "outputs": [
    {
     "data": {
      "text/plain": [
       "[('.', 5),\n",
       " ('the', 5),\n",
       " (\"'\", 3),\n",
       " ('your', 3),\n",
       " ('I', 2),\n",
       " ('not', 2),\n",
       " ('that', 2),\n",
       " ('of', 2),\n",
       " ('in', 2),\n",
       " ('and', 2)]"
      ]
     },
     "execution_count": 13,
     "metadata": {},
     "output_type": "execute_result"
    }
   ],
   "source": [
    "# return most common word came out from the paragraph\n",
    "freqdist.most_common(10)"
   ]
  },
  {
   "cell_type": "code",
   "execution_count": 16,
   "metadata": {},
   "outputs": [
    {
     "data": {
      "image/png": "[encoded data removed]",
      "text/plain": [
       "<Figure size 720x504 with 1 Axes>"
      ]
     },
     "metadata": {
      "needs_background": "dark"
     },
     "output_type": "display_data"
    }
   ],
   "source": [
    "# Frequency Distribution Plot : return the top 30 highest count words in the paragraph\n",
    "plt.subplots(figsize=(10,7))\n",
    "freqdist.plot(30,cumulative=False)\n",
    "plt.show()\n",
    "\n"
   ]
  },
  {
   "cell_type": "markdown",
   "metadata": {},
   "source": [
    "## Stopwords\n",
    "\n",
    "words that connects the English language in order to make sense & it does not contribute anything towards sentiment score eg : he she me my i ....."
   ]
  },
  {
   "cell_type": "code",
   "execution_count": 17,
   "metadata": {
    "scrolled": true
   },
   "outputs": [
    {
     "name": "stdout",
     "output_type": "stream",
     "text": [
      "['i', 'me', 'my', 'myself', 'we', 'our', 'ours', 'ourselves', 'you', \"you're\", \"you've\", \"you'll\", \"you'd\", 'your', 'yours', 'yourself', 'yourselves', 'he', 'him', 'his', 'himself', 'she', \"she's\", 'her', 'hers', 'herself', 'it', \"it's\", 'its', 'itself', 'they', 'them', 'their', 'theirs', 'themselves', 'what', 'which', 'who', 'whom', 'this', 'that', \"that'll\", 'these', 'those', 'am', 'is', 'are', 'was', 'were', 'be', 'been', 'being', 'have', 'has', 'had', 'having', 'do', 'does', 'did', 'doing', 'a', 'an', 'the', 'and', 'but', 'if', 'or', 'because', 'as', 'until', 'while', 'of', 'at', 'by', 'for', 'with', 'about', 'against', 'between', 'into', 'through', 'during', 'before', 'after', 'above', 'below', 'to', 'from', 'up', 'down', 'in', 'out', 'on', 'off', 'over', 'under', 'again', 'further', 'then', 'once', 'here', 'there', 'when', 'where', 'why', 'how', 'all', 'any', 'both', 'each', 'few', 'more', 'most', 'other', 'some', 'such', 'no', 'nor', 'not', 'only', 'own', 'same', 'so', 'than', 'too', 'very', 's', 't', 'can', 'will', 'just', 'don', \"don't\", 'should', \"should've\", 'now', 'd', 'll', 'm', 'o', 're', 've', 'y', 'ain', 'aren', \"aren't\", 'couldn', \"couldn't\", 'didn', \"didn't\", 'doesn', \"doesn't\", 'hadn', \"hadn't\", 'hasn', \"hasn't\", 'haven', \"haven't\", 'isn', \"isn't\", 'ma', 'mightn', \"mightn't\", 'mustn', \"mustn't\", 'needn', \"needn't\", 'shan', \"shan't\", 'shouldn', \"shouldn't\", 'wasn', \"wasn't\", 'weren', \"weren't\", 'won', \"won't\", 'wouldn', \"wouldn't\"]\n",
      "['i', 'me', 'my', 'myself', 'we', 'our', 'ours', 'ourselves', 'you', \"you're\", \"you've\", \"you'll\", \"you'd\", 'your', 'yours', 'yourself', 'yourselves', 'he', 'him', 'his', 'himself', 'she', \"she's\", 'her', 'hers', 'herself', 'it', \"it's\", 'its', 'itself', 'they', 'them', 'their', 'theirs', 'themselves', 'what', 'which', 'who', 'whom', 'this', 'that', \"that'll\", 'these', 'those', 'am', 'is', 'are', 'was', 'were', 'be', 'been', 'being', 'have', 'has', 'had', 'having', 'do', 'does', 'did', 'doing', 'a', 'an', 'the', 'and', 'but', 'if', 'or', 'because', 'as', 'until', 'while', 'of', 'at', 'by', 'for', 'with', 'about', 'against', 'between', 'into', 'through', 'during', 'before', 'after', 'above', 'below', 'to', 'from', 'up', 'down', 'in', 'out', 'on', 'off', 'over', 'under', 'again', 'further', 'then', 'once', 'here', 'there', 'when', 'where', 'why', 'how', 'all', 'any', 'both', 'each', 'few', 'more', 'most', 'other', 'some', 'such', 'no', 'nor', 'not', 'only', 'own', 'same', 'so', 'than', 'too', 'very', 's', 't', 'can', 'will', 'just', 'don', \"don't\", 'should', \"should've\", 'now', 'd', 'll', 'm', 'o', 're', 've', 'y', 'ain', 'aren', \"aren't\", 'couldn', \"couldn't\", 'didn', \"didn't\", 'doesn', \"doesn't\", 'hadn', \"hadn't\", 'hasn', \"hasn't\", 'haven', \"haven't\", 'isn', \"isn't\", 'ma', 'mightn', \"mightn't\", 'mustn', \"mustn't\", 'needn', \"needn't\", 'shan', \"shan't\", 'shouldn', \"shouldn't\", 'wasn', \"wasn't\", 'weren', \"weren't\", 'won', \"won't\", 'wouldn', \"wouldn't\", 'Retweet']\n"
     ]
    }
   ],
   "source": [
    "# return list of stop words (words that contribues nothing towards sentiment) in nltk package\n",
    "stop_words = stopwords.words(\"english\")\n",
    "#/Users/laishumin/nltk_data/corpora/stopwords/english\n",
    "\n",
    "print(stop_words)\n",
    "stop_words.append('Retweet')\n",
    "\n",
    "print(stop_words)"
   ]
  },
  {
   "cell_type": "code",
   "execution_count": 18,
   "metadata": {},
   "outputs": [
    {
     "name": "stdout",
     "output_type": "stream",
     "text": [
      "Tokenized Sentence: [\"'Welcome\", 'Mr.', 'Smith', \"'\", 'she', 'said', '.', \"'\", 'I', 'had', 'not', 'heard', 'that', 'folk', 'of', 'the', 'Shire', 'were', 'so', 'sweet-tongued', '.', 'But', 'I', 'see', 'that', 'you', 'are', 'an', 'Elf-friend', ';', 'the', 'light', 'in', 'your', 'eyes', 'and', 'the', 'ring', 'in', 'your', 'voice', 'tells', 'it', '.', 'This', 'is', 'a', 'merry', 'meeting', '!', 'Sit', 'now', ',', 'and', 'wait', 'for', 'the', 'Master', 'of', 'the', 'house', '!', 'He', 'will', 'not', 'be', 'long', '.', 'He', 'is', 'tending', 'your', 'tired', 'beasts', '.', \"'\"]\n",
      "\n",
      "\n",
      "Filterd Sentence: [\"'Welcome\", 'Mr.', 'Smith', \"'\", 'said', '.', \"'\", 'I', 'heard', 'folk', 'Shire', 'sweet-tongued', '.', 'But', 'I', 'see', 'Elf-friend', ';', 'light', 'eyes', 'ring', 'voice', 'tells', '.', 'This', 'merry', 'meeting', '!', 'Sit', ',', 'wait', 'Master', 'house', '!', 'He', 'long', '.', 'He', 'tending', 'tired', 'beasts', '.', \"'\"]\n"
     ]
    }
   ],
   "source": [
    "# applying stop word filter towards the pagraph\n",
    "\n",
    "filtered_sent=[]\n",
    "\n",
    "\n",
    "for w in tokenized_word:     # original paragraph\n",
    "    if w not in stop_words:\n",
    "        filtered_sent.append(w)   # filter out stop words\n",
    "        \n",
    "print(\"Tokenized Sentence:\",tokenized_word)\n",
    "print('\\n')\n",
    "print(\"Filterd Sentence:\",filtered_sent)"
   ]
  },
  {
   "cell_type": "markdown",
   "metadata": {},
   "source": [
    "## Stemming & Lemmatization"
   ]
  },
  {
   "cell_type": "code",
   "execution_count": 94,
   "metadata": {},
   "outputs": [],
   "source": [
    "#Porter Stemmer (simple + speed), fast recall and fetching queries; 5 main rules, step by step, no lookup table, but follows algorithmic rules\n",
    "#snowball stemmers \n",
    "#lancaster stemmer; iterative algorithms, and over stemming may occur;\n",
    "#faster than lemmatization\n",
    "\n",
    "#lemma, detailed dictionaries to link form back to lemma; \n",
    "# needs lookup + pos\n",
    "#language impt, use this, as corpus used to map root forms\n",
    "\n",
    "#applications --> sentiment analysis (text preparation),information retrieval, to map documents to topics"
   ]
  },
  {
   "cell_type": "markdown",
   "metadata": {},
   "source": [
    "### Lemmatization"
   ]
  },
  {
   "cell_type": "code",
   "execution_count": 19,
   "metadata": {
    "ExecuteTime": {
     "end_time": "2020-06-06T19:17:34.285973Z",
     "start_time": "2020-06-06T19:17:32.692035Z"
    }
   },
   "outputs": [
    {
     "name": "stdout",
     "output_type": "stream",
     "text": [
      "Lemmatized Word: fly\n",
      "Stemmed Word: fli\n"
     ]
    }
   ],
   "source": [
    "#Lexicon Normalization\n",
    "#performing stemming and Lemmatization\n",
    "\n",
    "lem = WordNetLemmatizer()\n",
    "#wordnet database to lookup words, lemma needs to have part of speech provided\n",
    "\n",
    "stem = PorterStemmer()\n",
    "\n",
    "word = \"flying\"\n",
    "print(\"Lemmatized Word:\",lem.lemmatize(word,\"v\"))\n",
    "print(\"Stemmed Word:\",stem.stem(word))"
   ]
  },
  {
   "cell_type": "code",
   "execution_count": 20,
   "metadata": {
    "ExecuteTime": {
     "end_time": "2020-06-06T19:20:33.164977Z",
     "start_time": "2020-06-06T19:20:33.161159Z"
    }
   },
   "outputs": [
    {
     "name": "stdout",
     "output_type": "stream",
     "text": [
      "Lemmatized Word: good\n"
     ]
    }
   ],
   "source": [
    "print(\"Lemmatized Word:\",lem.lemmatize('better',\"a\"))\n",
    "# default pos = noun\n",
    "# better than stemming? group more words together, better job than stemming\n"
   ]
  },
  {
   "cell_type": "markdown",
   "metadata": {},
   "source": [
    "### Stemming"
   ]
  },
  {
   "cell_type": "code",
   "execution_count": 37,
   "metadata": {},
   "outputs": [
    {
     "name": "stdout",
     "output_type": "stream",
     "text": [
      "application \n",
      " Stemming: applic Lemmatizing: application\n",
      "applying \n",
      " Stemming: appli Lemmatizing: apply\n",
      "applies \n",
      " Stemming: appli Lemmatizing: apply\n",
      "applied \n",
      " Stemming: appli Lemmatizing: apply\n",
      "apply \n",
      " Stemming: appli Lemmatizing: apply\n",
      "apples \n",
      " Stemming: appl Lemmatizing: apples\n",
      "apple \n",
      " Stemming: appl Lemmatizing: apple\n"
     ]
    }
   ],
   "source": [
    "words = ['application', 'applying', 'applies', 'applied', 'apply', 'apples', 'apple']\n",
    "\n",
    "for i in words:\n",
    "    print(i, '\\n','Stemming:', stem.stem(i), 'Lemmatizing:', lem.lemmatize(i, 'v'))"
   ]
  },
  {
   "cell_type": "markdown",
   "metadata": {},
   "source": [
    "### Compare stemming & lematization side by side"
   ]
  },
  {
   "cell_type": "code",
   "execution_count": 38,
   "metadata": {
    "ExecuteTime": {
     "end_time": "2020-06-06T19:17:35.774646Z",
     "start_time": "2020-06-06T19:17:35.770956Z"
    }
   },
   "outputs": [],
   "source": [
    "word_list = ['python', 'pythoned', 'pythoner', 'pythonly', 'pythoning']"
   ]
  },
  {
   "cell_type": "code",
   "execution_count": 39,
   "metadata": {
    "ExecuteTime": {
     "end_time": "2020-06-06T19:18:02.953544Z",
     "start_time": "2020-06-06T19:18:02.949711Z"
    }
   },
   "outputs": [
    {
     "name": "stdout",
     "output_type": "stream",
     "text": [
      "python python\n",
      "python pythoned\n",
      "python pythoner\n",
      "pythonli pythonly\n",
      "python pythoning\n"
     ]
    }
   ],
   "source": [
    "for i in word_list:\n",
    "    print(stem.stem(i), lem.lemmatize(i))\n"
   ]
  },
  {
   "cell_type": "code",
   "execution_count": null,
   "metadata": {},
   "outputs": [],
   "source": []
  },
  {
   "cell_type": "markdown",
   "metadata": {},
   "source": [
    "## Part of Speech Tagging"
   ]
  },
  {
   "cell_type": "code",
   "execution_count": 21,
   "metadata": {
    "ExecuteTime": {
     "end_time": "2020-06-06T18:49:32.049045Z",
     "start_time": "2020-06-06T18:49:32.043428Z"
    }
   },
   "outputs": [
    {
     "name": "stdout",
     "output_type": "stream",
     "text": [
      "['Albert', 'Einstein', 'was', 'born', 'in', 'Ulm', ',', 'Germany', 'in', '1879', '.']\n"
     ]
    }
   ],
   "source": [
    "sent = \"Albert Einstein was born in Ulm, Germany in 1879.\"\n",
    "tokens = nltk.word_tokenize(sent)\n",
    "print(tokens)"
   ]
  },
  {
   "cell_type": "code",
   "execution_count": 22,
   "metadata": {
    "ExecuteTime": {
     "end_time": "2020-06-06T18:49:32.217054Z",
     "start_time": "2020-06-06T18:49:32.056105Z"
    }
   },
   "outputs": [
    {
     "data": {
      "text/plain": [
       "[('Albert', 'NNP'),\n",
       " ('Einstein', 'NNP'),\n",
       " ('was', 'VBD'),\n",
       " ('born', 'VBN'),\n",
       " ('in', 'IN'),\n",
       " ('Ulm', 'NNP'),\n",
       " (',', ','),\n",
       " ('Germany', 'NNP'),\n",
       " ('in', 'IN'),\n",
       " ('1879', 'CD'),\n",
       " ('.', '.')]"
      ]
     },
     "execution_count": 22,
     "metadata": {},
     "output_type": "execute_result"
    }
   ],
   "source": [
    "nltk.pos_tag(tokens)"
   ]
  },
  {
   "cell_type": "code",
   "execution_count": 102,
   "metadata": {
    "ExecuteTime": {
     "end_time": "2020-06-06T18:50:45.975053Z",
     "start_time": "2020-06-06T18:50:37.398806Z"
    }
   },
   "outputs": [],
   "source": [
    "#!pip install wikipedia"
   ]
  },
  {
   "cell_type": "code",
   "execution_count": 23,
   "metadata": {
    "ExecuteTime": {
     "end_time": "2020-06-06T18:50:48.876323Z",
     "start_time": "2020-06-06T18:50:45.978291Z"
    }
   },
   "outputs": [],
   "source": [
    "import wikipedia as wiki"
   ]
  },
  {
   "cell_type": "code",
   "execution_count": 24,
   "metadata": {
    "ExecuteTime": {
     "end_time": "2020-06-06T18:51:10.091021Z",
     "start_time": "2020-06-06T18:51:07.968406Z"
    }
   },
   "outputs": [],
   "source": [
    "shopee = wiki.summary('Shopee')"
   ]
  },
  {
   "cell_type": "code",
   "execution_count": 25,
   "metadata": {
    "ExecuteTime": {
     "end_time": "2020-06-06T18:51:21.949287Z",
     "start_time": "2020-06-06T18:51:21.934676Z"
    }
   },
   "outputs": [],
   "source": [
    "shopee_tok = word_tokenize(shopee)"
   ]
  },
  {
   "cell_type": "code",
   "execution_count": 26,
   "metadata": {
    "ExecuteTime": {
     "end_time": "2020-06-06T18:51:49.320382Z",
     "start_time": "2020-06-06T18:51:49.254706Z"
    }
   },
   "outputs": [
    {
     "data": {
      "text/plain": [
       "[('Shopee', 'NNP'),\n",
       " ('is', 'VBZ'),\n",
       " ('a', 'DT'),\n",
       " ('Singaporean', 'JJ'),\n",
       " ('e-commerce', 'NN'),\n",
       " ('platform', 'NN'),\n",
       " ('headquartered', 'VBN'),\n",
       " ('under', 'IN'),\n",
       " ('the', 'DT'),\n",
       " ('Sea', 'NNP'),\n",
       " ('Group', 'NNP'),\n",
       " ('(', '('),\n",
       " ('previously', 'RB'),\n",
       " ('known', 'VBN'),\n",
       " ('as', 'IN'),\n",
       " ('Garena', 'NNP'),\n",
       " (')', ')'),\n",
       " (',', ','),\n",
       " ('which', 'WDT'),\n",
       " ('was', 'VBD'),\n",
       " ('founded', 'VBN'),\n",
       " ('in', 'IN'),\n",
       " ('2015', 'CD'),\n",
       " ('by', 'IN'),\n",
       " ('Forrest', 'NNP'),\n",
       " ('Li', 'NNP'),\n",
       " ('.', '.'),\n",
       " ('Shopee', 'NNP'),\n",
       " ('first', 'RB'),\n",
       " ('launched', 'VBD'),\n",
       " ('in', 'IN'),\n",
       " ('Singapore', 'NNP'),\n",
       " ('in', 'IN'),\n",
       " ('2015', 'CD'),\n",
       " (',', ','),\n",
       " ('and', 'CC'),\n",
       " ('since', 'IN'),\n",
       " ('expanded', 'VBN'),\n",
       " ('its', 'PRP$'),\n",
       " ('reach', 'NN'),\n",
       " ('to', 'TO'),\n",
       " ('Malaysia', 'NNP'),\n",
       " (',', ','),\n",
       " ('Thailand', 'NNP'),\n",
       " (',', ','),\n",
       " ('Taiwan', 'NNP'),\n",
       " (',', ','),\n",
       " ('Indonesia', 'NNP'),\n",
       " (',', ','),\n",
       " ('Vietnam', 'NNP'),\n",
       " (',', ','),\n",
       " ('the', 'DT'),\n",
       " ('Philippines', 'NNPS'),\n",
       " (',', ','),\n",
       " ('and', 'CC'),\n",
       " ('Brazil', 'NNP'),\n",
       " ('.', '.'),\n",
       " ('It', 'PRP'),\n",
       " ('serves', 'VBZ'),\n",
       " ('users', 'NNS'),\n",
       " ('in', 'IN'),\n",
       " ('Southeast', 'NNP'),\n",
       " ('Asia', 'NNP'),\n",
       " ('and', 'CC'),\n",
       " ('Taiwan', 'NNP'),\n",
       " ('to', 'TO'),\n",
       " ('buy', 'VB'),\n",
       " ('and', 'CC'),\n",
       " ('sell', 'VB'),\n",
       " ('products', 'NNS'),\n",
       " ('online', 'PRP'),\n",
       " ('.', '.'),\n",
       " ('Shopee', 'NNP'),\n",
       " ('presents', 'VBZ'),\n",
       " ('an', 'DT'),\n",
       " ('expansive', 'JJ'),\n",
       " ('range', 'NN'),\n",
       " ('of', 'IN'),\n",
       " ('products', 'NNS'),\n",
       " (',', ','),\n",
       " ('a', 'DT'),\n",
       " ('social', 'JJ'),\n",
       " ('community', 'NN'),\n",
       " ('for', 'IN'),\n",
       " ('exploration', 'NN'),\n",
       " (',', ','),\n",
       " ('and', 'CC'),\n",
       " ('smooth', 'JJ'),\n",
       " ('and', 'CC'),\n",
       " ('satisfactory', 'JJ'),\n",
       " ('services', 'NNS'),\n",
       " ('.', '.'),\n",
       " ('Due', 'JJ'),\n",
       " ('to', 'TO'),\n",
       " ('the', 'DT'),\n",
       " ('mobile', 'JJ'),\n",
       " ('and', 'CC'),\n",
       " ('social', 'JJ'),\n",
       " ('element', 'NN'),\n",
       " ('built', 'VBN'),\n",
       " ('within', 'IN'),\n",
       " ('the', 'DT'),\n",
       " ('concept', 'NN'),\n",
       " (',', ','),\n",
       " ('Shopee', 'NNP'),\n",
       " ('was', 'VBD'),\n",
       " ('described', 'VBN'),\n",
       " ('as', 'IN'),\n",
       " ('one', 'CD'),\n",
       " ('of', 'IN'),\n",
       " ('the', 'DT'),\n",
       " ('``', '``'),\n",
       " ('5', 'CD'),\n",
       " ('disruptive', 'JJ'),\n",
       " ('ecommerce', 'NN'),\n",
       " ('startups', 'NN'),\n",
       " ('we', 'PRP'),\n",
       " ('saw', 'VBD'),\n",
       " ('in', 'IN'),\n",
       " ('2015', 'CD'),\n",
       " (\"''\", \"''\"),\n",
       " ('by', 'IN'),\n",
       " ('Tech', 'NNP'),\n",
       " ('In', 'IN'),\n",
       " ('Asia', 'NNP'),\n",
       " ('.', '.')]"
      ]
     },
     "execution_count": 26,
     "metadata": {},
     "output_type": "execute_result"
    }
   ],
   "source": [
    "nltk.pos_tag(shopee_tok)\n"
   ]
  },
  {
   "cell_type": "code",
   "execution_count": 27,
   "metadata": {
    "ExecuteTime": {
     "end_time": "2020-06-06T18:54:38.832619Z",
     "start_time": "2020-06-06T18:54:38.828957Z"
    }
   },
   "outputs": [
    {
     "name": "stdout",
     "output_type": "stream",
     "text": [
      "NNP: noun, proper, singular\n",
      "    Motown Venneboerger Czestochwa Ranzer Conchita Trumplane Christos\n",
      "    Oceanside Escobar Kreisler Sawyer Cougar Yvette Ervin ODI Darryl CTCA\n",
      "    Shannon A.K.C. Meltex Liverpool ...\n"
     ]
    }
   ],
   "source": [
    "nltk.help.upenn_tagset('NNP')"
   ]
  },
  {
   "cell_type": "code",
   "execution_count": 28,
   "metadata": {
    "ExecuteTime": {
     "end_time": "2020-06-06T18:54:44.273042Z",
     "start_time": "2020-06-06T18:54:44.269170Z"
    }
   },
   "outputs": [
    {
     "name": "stdout",
     "output_type": "stream",
     "text": [
      "NN: noun, common, singular or mass\n",
      "    common-carrier cabbage knuckle-duster Casino afghan shed thermostat\n",
      "    investment slide humour falloff slick wind hyena override subhumanity\n",
      "    machinist ...\n"
     ]
    }
   ],
   "source": [
    "nltk.help.upenn_tagset('NN')"
   ]
  },
  {
   "cell_type": "code",
   "execution_count": 29,
   "metadata": {
    "ExecuteTime": {
     "end_time": "2020-06-06T18:55:14.962806Z",
     "start_time": "2020-06-06T18:55:14.959284Z"
    }
   },
   "outputs": [
    {
     "name": "stdout",
     "output_type": "stream",
     "text": [
      "PRP$: pronoun, possessive\n",
      "    her his mine my our ours their thy your\n"
     ]
    }
   ],
   "source": [
    "nltk.help.upenn_tagset('PRP$')"
   ]
  },
  {
   "cell_type": "code",
   "execution_count": 30,
   "metadata": {},
   "outputs": [],
   "source": [
    "#https://www.ling.upenn.edu/courses/Fall_2003/ling001/penn_treebank_pos.html"
   ]
  },
  {
   "cell_type": "markdown",
   "metadata": {},
   "source": [
    "## Named Entity Recognition"
   ]
  },
  {
   "cell_type": "code",
   "execution_count": 31,
   "metadata": {
    "ExecuteTime": {
     "end_time": "2020-06-06T19:06:47.670680Z",
     "start_time": "2020-06-06T19:06:47.517854Z"
    }
   },
   "outputs": [],
   "source": [
    "namedEnt = nltk.ne_chunk(nltk.pos_tag(shopee_tok))\n",
    "namedEnt.draw()"
   ]
  },
  {
   "cell_type": "markdown",
   "metadata": {},
   "source": [
    "# Sentiment Analysis - Scikit Learn"
   ]
  },
  {
   "cell_type": "markdown",
   "metadata": {},
   "source": [
    "Data Source: https://www.kaggle.com/c/sentiment-analysis-on-movie-reviews\n",
    "\n",
    "\n",
    "The dataset is comprised of tab-separated files with phrases from the Rotten Tomatoes dataset. The train/test split has been preserved for the purposes of benchmarking, but the sentences have been shuffled from their original order. Each Sentence has been parsed into many phrases by the Stanford parser. Each phrase has a PhraseId. Each sentence has a SentenceId. Phrases that are repeated (such as short/common words) are only included once in the data.\n",
    "\n",
    "train.tsv contains the phrases and their associated sentiment labels. We have additionally provided a SentenceId so that you can track which phrases belong to a single sentence.\n",
    "test.tsv contains just phrases. You must assign a sentiment label to each phrase.\n",
    "The sentiment labels are:\n",
    "\n",
    "0 - negative\n",
    "1 - somewhat negative\n",
    "2 - neutral\n",
    "3 - somewhat positive\n",
    "4 - positive"
   ]
  },
  {
   "cell_type": "code",
   "execution_count": 32,
   "metadata": {},
   "outputs": [],
   "source": [
    "df = pd.read_csv('train.tsv', sep='\\t')"
   ]
  },
  {
   "cell_type": "code",
   "execution_count": 33,
   "metadata": {},
   "outputs": [
    {
     "data": {
      "text/plain": [
       "(156060, 4)"
      ]
     },
     "execution_count": 33,
     "metadata": {},
     "output_type": "execute_result"
    }
   ],
   "source": [
    "df.shape"
   ]
  },
  {
   "cell_type": "code",
   "execution_count": 34,
   "metadata": {},
   "outputs": [
    {
     "name": "stdout",
     "output_type": "stream",
     "text": [
      "<class 'pandas.core.frame.DataFrame'>\n",
      "RangeIndex: 156060 entries, 0 to 156059\n",
      "Data columns (total 4 columns):\n",
      " #   Column      Non-Null Count   Dtype \n",
      "---  ------      --------------   ----- \n",
      " 0   PhraseId    156060 non-null  int64 \n",
      " 1   SentenceId  156060 non-null  int64 \n",
      " 2   Phrase      156060 non-null  object\n",
      " 3   Sentiment   156060 non-null  int64 \n",
      "dtypes: int64(3), object(1)\n",
      "memory usage: 4.8+ MB\n"
     ]
    }
   ],
   "source": [
    "df.info()"
   ]
  },
  {
   "cell_type": "code",
   "execution_count": 35,
   "metadata": {},
   "outputs": [
    {
     "data": {
      "text/html": [
       "<div>\n",
       "<style scoped>\n",
       "    .dataframe tbody tr th:only-of-type {\n",
       "        vertical-align: middle;\n",
       "    }\n",
       "\n",
       "    .dataframe tbody tr th {\n",
       "        vertical-align: top;\n",
       "    }\n",
       "\n",
       "    .dataframe thead th {\n",
       "        text-align: right;\n",
       "    }\n",
       "</style>\n",
       "<table border=\"1\" class=\"dataframe\">\n",
       "  <thead>\n",
       "    <tr style=\"text-align: right;\">\n",
       "      <th></th>\n",
       "      <th>PhraseId</th>\n",
       "      <th>SentenceId</th>\n",
       "      <th>Phrase</th>\n",
       "      <th>Sentiment</th>\n",
       "    </tr>\n",
       "  </thead>\n",
       "  <tbody>\n",
       "    <tr>\n",
       "      <th>0</th>\n",
       "      <td>1</td>\n",
       "      <td>1</td>\n",
       "      <td>A series of escapades demonstrating the adage ...</td>\n",
       "      <td>1</td>\n",
       "    </tr>\n",
       "    <tr>\n",
       "      <th>1</th>\n",
       "      <td>2</td>\n",
       "      <td>1</td>\n",
       "      <td>A series of escapades demonstrating the adage ...</td>\n",
       "      <td>2</td>\n",
       "    </tr>\n",
       "    <tr>\n",
       "      <th>2</th>\n",
       "      <td>3</td>\n",
       "      <td>1</td>\n",
       "      <td>A series</td>\n",
       "      <td>2</td>\n",
       "    </tr>\n",
       "    <tr>\n",
       "      <th>3</th>\n",
       "      <td>4</td>\n",
       "      <td>1</td>\n",
       "      <td>A</td>\n",
       "      <td>2</td>\n",
       "    </tr>\n",
       "    <tr>\n",
       "      <th>4</th>\n",
       "      <td>5</td>\n",
       "      <td>1</td>\n",
       "      <td>series</td>\n",
       "      <td>2</td>\n",
       "    </tr>\n",
       "    <tr>\n",
       "      <th>...</th>\n",
       "      <td>...</td>\n",
       "      <td>...</td>\n",
       "      <td>...</td>\n",
       "      <td>...</td>\n",
       "    </tr>\n",
       "    <tr>\n",
       "      <th>156055</th>\n",
       "      <td>156056</td>\n",
       "      <td>8544</td>\n",
       "      <td>Hearst 's</td>\n",
       "      <td>2</td>\n",
       "    </tr>\n",
       "    <tr>\n",
       "      <th>156056</th>\n",
       "      <td>156057</td>\n",
       "      <td>8544</td>\n",
       "      <td>forced avuncular chortles</td>\n",
       "      <td>1</td>\n",
       "    </tr>\n",
       "    <tr>\n",
       "      <th>156057</th>\n",
       "      <td>156058</td>\n",
       "      <td>8544</td>\n",
       "      <td>avuncular chortles</td>\n",
       "      <td>3</td>\n",
       "    </tr>\n",
       "    <tr>\n",
       "      <th>156058</th>\n",
       "      <td>156059</td>\n",
       "      <td>8544</td>\n",
       "      <td>avuncular</td>\n",
       "      <td>2</td>\n",
       "    </tr>\n",
       "    <tr>\n",
       "      <th>156059</th>\n",
       "      <td>156060</td>\n",
       "      <td>8544</td>\n",
       "      <td>chortles</td>\n",
       "      <td>2</td>\n",
       "    </tr>\n",
       "  </tbody>\n",
       "</table>\n",
       "<p>156060 rows × 4 columns</p>\n",
       "</div>"
      ],
      "text/plain": [
       "        PhraseId  SentenceId  \\\n",
       "0              1           1   \n",
       "1              2           1   \n",
       "2              3           1   \n",
       "3              4           1   \n",
       "4              5           1   \n",
       "...          ...         ...   \n",
       "156055    156056        8544   \n",
       "156056    156057        8544   \n",
       "156057    156058        8544   \n",
       "156058    156059        8544   \n",
       "156059    156060        8544   \n",
       "\n",
       "                                                   Phrase  Sentiment  \n",
       "0       A series of escapades demonstrating the adage ...          1  \n",
       "1       A series of escapades demonstrating the adage ...          2  \n",
       "2                                                A series          2  \n",
       "3                                                       A          2  \n",
       "4                                                  series          2  \n",
       "...                                                   ...        ...  \n",
       "156055                                          Hearst 's          2  \n",
       "156056                          forced avuncular chortles          1  \n",
       "156057                                 avuncular chortles          3  \n",
       "156058                                          avuncular          2  \n",
       "156059                                           chortles          2  \n",
       "\n",
       "[156060 rows x 4 columns]"
      ]
     },
     "execution_count": 35,
     "metadata": {},
     "output_type": "execute_result"
    }
   ],
   "source": [
    "df"
   ]
  },
  {
   "cell_type": "code",
   "execution_count": 36,
   "metadata": {},
   "outputs": [
    {
     "data": {
      "text/plain": [
       "0         A series of escapades demonstrating the adage ...\n",
       "1         A series of escapades demonstrating the adage ...\n",
       "2                                                  A series\n",
       "3                                                         A\n",
       "4                                                    series\n",
       "                                ...                        \n",
       "156055                                            Hearst 's\n",
       "156056                            forced avuncular chortles\n",
       "156057                                   avuncular chortles\n",
       "156058                                            avuncular\n",
       "156059                                             chortles\n",
       "Name: Phrase, Length: 156060, dtype: object"
      ]
     },
     "execution_count": 36,
     "metadata": {},
     "output_type": "execute_result"
    }
   ],
   "source": [
    "df['Phrase']"
   ]
  },
  {
   "cell_type": "markdown",
   "metadata": {},
   "source": [
    "As was mentioned in the original competition description, there are no individual movie reviews but rather phrases taken out of context and split into smaller parts, each with an assigned sentiment category. The competition is evaluated based on scoring results of each test phrase, so the context of the whole review does not matter here. "
   ]
  },
  {
   "cell_type": "code",
   "execution_count": 37,
   "metadata": {},
   "outputs": [
    {
     "data": {
      "text/plain": [
       "count    156060.000000\n",
       "mean          2.063578\n",
       "std           0.893832\n",
       "min           0.000000\n",
       "25%           2.000000\n",
       "50%           2.000000\n",
       "75%           3.000000\n",
       "max           4.000000\n",
       "Name: Sentiment, dtype: float64"
      ]
     },
     "execution_count": 37,
     "metadata": {},
     "output_type": "execute_result"
    }
   ],
   "source": [
    "df['Sentiment'].describe()"
   ]
  },
  {
   "cell_type": "code",
   "execution_count": 38,
   "metadata": {},
   "outputs": [
    {
     "data": {
      "text/plain": [
       "2    79582\n",
       "3    32927\n",
       "1    27273\n",
       "4     9206\n",
       "0     7072\n",
       "Name: Sentiment, dtype: int64"
      ]
     },
     "execution_count": 38,
     "metadata": {},
     "output_type": "execute_result"
    }
   ],
   "source": [
    "df.Sentiment.value_counts()"
   ]
  },
  {
   "cell_type": "code",
   "execution_count": 39,
   "metadata": {},
   "outputs": [
    {
     "data": {
      "image/png": "[encoded data removed]",
      "text/plain": [
       "<Figure size 432x288 with 1 Axes>"
      ]
     },
     "metadata": {
      "needs_background": "dark"
     },
     "output_type": "display_data"
    }
   ],
   "source": [
    "Sentiment_count = df.groupby('Sentiment').count()\n",
    "\n",
    "plt.bar(Sentiment_count.index.values, Sentiment_count['Phrase'])\n",
    "plt.xlabel('Review Sentiments')\n",
    "plt.ylabel('Number of Review')\n",
    "plt.show()"
   ]
  },
  {
   "cell_type": "markdown",
   "metadata": {},
   "source": [
    "## Count Vectorizer"
   ]
  },
  {
   "cell_type": "code",
   "execution_count": 40,
   "metadata": {},
   "outputs": [],
   "source": [
    "#tokenizer to remove unwanted elements from out data like symbols and numbers\n",
    "token = RegexpTokenizer(r'[a-zA-Z0-9]+')\n",
    "\n",
    "cv = CountVectorizer(lowercase=True, stop_words='english', ngram_range = (1,1), tokenizer = token.tokenize)\n",
    "\n",
    "text_counts= cv.fit_transform(df['Phrase'])"
   ]
  },
  {
   "cell_type": "code",
   "execution_count": 41,
   "metadata": {},
   "outputs": [
    {
     "data": {
      "text/plain": [
       "(156060, 4)"
      ]
     },
     "execution_count": 41,
     "metadata": {},
     "output_type": "execute_result"
    }
   ],
   "source": [
    "df.shape"
   ]
  },
  {
   "cell_type": "code",
   "execution_count": 42,
   "metadata": {},
   "outputs": [
    {
     "name": "stdout",
     "output_type": "stream",
     "text": [
      "  (0, 11671)\t1\n",
      "  (0, 4517)\t1\n",
      "  (0, 3444)\t1\n",
      "  (0, 294)\t1\n",
      "  (0, 5735)\t2\n",
      "  (0, 5751)\t1\n",
      "  (0, 5512)\t1\n",
      "  (0, 9065)\t1\n",
      "  (0, 593)\t1\n",
      "  (0, 584)\t1\n",
      "  (0, 12673)\t1\n",
      "  (1, 11671)\t1\n",
      "  (1, 4517)\t1\n",
      "  (1, 3444)\t1\n",
      "  (1, 294)\t1\n",
      "  (1, 5735)\t1\n",
      "  (1, 5751)\t1\n",
      "  (2, 11671)\t1\n",
      "  (4, 11671)\t1\n",
      "  (5, 4517)\t1\n",
      "  (5, 3444)\t1\n",
      "  (5, 294)\t1\n",
      "  (5, 5735)\t1\n",
      "  (5, 5751)\t1\n",
      "  (7, 4517)\t1\n",
      "  :\t:\n",
      "  (156050, 11305)\t1\n",
      "  (156050, 9054)\t1\n",
      "  (156051, 11305)\t1\n",
      "  (156051, 9054)\t1\n",
      "  (156052, 11305)\t1\n",
      "  (156053, 11281)\t1\n",
      "  (156053, 1281)\t1\n",
      "  (156053, 5252)\t1\n",
      "  (156053, 6156)\t1\n",
      "  (156053, 1006)\t1\n",
      "  (156053, 2271)\t1\n",
      "  (156054, 11281)\t1\n",
      "  (156054, 5252)\t1\n",
      "  (156054, 6156)\t1\n",
      "  (156054, 1006)\t1\n",
      "  (156054, 2271)\t1\n",
      "  (156055, 11281)\t1\n",
      "  (156055, 6156)\t1\n",
      "  (156056, 5252)\t1\n",
      "  (156056, 1006)\t1\n",
      "  (156056, 2271)\t1\n",
      "  (156057, 1006)\t1\n",
      "  (156057, 2271)\t1\n",
      "  (156058, 1006)\t1\n",
      "  (156059, 2271)\t1\n"
     ]
    }
   ],
   "source": [
    "print(text_counts)"
   ]
  },
  {
   "cell_type": "code",
   "execution_count": 43,
   "metadata": {},
   "outputs": [],
   "source": [
    "X_train, X_test, y_train, y_test = train_test_split(text_counts, df['Sentiment'], test_size=0.3, random_state=1)"
   ]
  },
  {
   "cell_type": "code",
   "execution_count": 44,
   "metadata": {},
   "outputs": [
    {
     "name": "stdout",
     "output_type": "stream",
     "text": [
      "MultinomialNB Accuracy: 0.6049169122986885\n"
     ]
    }
   ],
   "source": [
    "# Model Generation Using Multinomial Naive Bayes\n",
    "clf = MultinomialNB().fit(X_train, y_train)\n",
    "predicted = clf.predict(X_test)\n",
    "\n",
    "print(\"MultinomialNB Accuracy:\",metrics.accuracy_score(y_test, predicted))"
   ]
  },
  {
   "cell_type": "markdown",
   "metadata": {},
   "source": [
    "## TFIDF Vectorizer"
   ]
  },
  {
   "cell_type": "code",
   "execution_count": 45,
   "metadata": {},
   "outputs": [],
   "source": [
    "tf = TfidfVectorizer()\n",
    "\n",
    "text_tf = tf.fit_transform(df['Phrase'])"
   ]
  },
  {
   "cell_type": "code",
   "execution_count": 46,
   "metadata": {},
   "outputs": [
    {
     "name": "stdout",
     "output_type": "stream",
     "text": [
      "  (0, 12857)\t0.12785637560254456\n",
      "  (0, 8807)\t0.1353879543646446\n",
      "  (0, 13681)\t0.07615285026452821\n",
      "  (0, 593)\t0.22068902883834374\n",
      "  (0, 9085)\t0.1898515417082945\n",
      "  (0, 1879)\t0.11034437734762885\n",
      "  (0, 602)\t0.26341877863818697\n",
      "  (0, 9204)\t0.19301332592202286\n",
      "  (0, 14888)\t0.28701927784529135\n",
      "  (0, 12424)\t0.1381592967010513\n",
      "  (0, 5595)\t0.265796263188737\n",
      "  (0, 529)\t0.1614381914318891\n",
      "  (0, 5837)\t0.22883807138484064\n",
      "  (0, 5323)\t0.20344769269023563\n",
      "  (0, 5821)\t0.2625302862532789\n",
      "  (0, 7217)\t0.17522921677393963\n",
      "  (0, 14871)\t0.1354415412970302\n",
      "  (0, 13503)\t0.08982508036989033\n",
      "  (0, 288)\t0.251134096800077\n",
      "  (0, 13505)\t0.17690005957760713\n",
      "  (0, 3490)\t0.2485059095620638\n",
      "  (0, 4577)\t0.278538658922562\n",
      "  (0, 9227)\t0.27061683772839323\n",
      "  (0, 11837)\t0.1761994204821687\n",
      "  (1, 5837)\t0.3782714454401254\n",
      "  :\t:\n",
      "  (156050, 11465)\t0.670263619653983\n",
      "  (156050, 625)\t0.2115725833396903\n",
      "  (156050, 13505)\t0.18632379802617538\n",
      "  (156051, 9193)\t0.6987248068627274\n",
      "  (156051, 11465)\t0.6822102168950972\n",
      "  (156051, 625)\t0.21534359576868978\n",
      "  (156052, 11465)\t0.953619269081851\n",
      "  (156052, 625)\t0.3010154308931625\n",
      "  (156053, 2313)\t0.4917001772764322\n",
      "  (156053, 1027)\t0.4917001772764322\n",
      "  (156053, 6245)\t0.45540097827929693\n",
      "  (156053, 5328)\t0.3853824417825967\n",
      "  (156053, 1313)\t0.40068964783307426\n",
      "  (156054, 2313)\t0.5366653003868254\n",
      "  (156054, 1027)\t0.5366653003868254\n",
      "  (156054, 6245)\t0.4970466029897592\n",
      "  (156054, 5328)\t0.4206249935248471\n",
      "  (156055, 6245)\t1.0\n",
      "  (156056, 2313)\t0.618474762808639\n",
      "  (156056, 1027)\t0.618474762808639\n",
      "  (156056, 5328)\t0.4847452274521073\n",
      "  (156057, 2313)\t0.7071067811865476\n",
      "  (156057, 1027)\t0.7071067811865476\n",
      "  (156058, 1027)\t1.0\n",
      "  (156059, 2313)\t1.0\n"
     ]
    }
   ],
   "source": [
    "print(text_tf)"
   ]
  },
  {
   "cell_type": "code",
   "execution_count": 47,
   "metadata": {},
   "outputs": [],
   "source": [
    "X_train, X_test, y_train, y_test = train_test_split(text_tf, df['Sentiment'], test_size=0.3, random_state=123)"
   ]
  },
  {
   "cell_type": "code",
   "execution_count": 48,
   "metadata": {},
   "outputs": [
    {
     "name": "stdout",
     "output_type": "stream",
     "text": [
      "MultinomialNB Accuracy: 0.5865265496176684\n"
     ]
    }
   ],
   "source": [
    "# Model Generation Using Multinomial Naive Bayes\n",
    "clf = MultinomialNB().fit(X_train, y_train)\n",
    "predicted= clf.predict(X_test)\n",
    "\n",
    "print(\"MultinomialNB Accuracy:\",metrics.accuracy_score(y_test, predicted))"
   ]
  },
  {
   "cell_type": "code",
   "execution_count": null,
   "metadata": {},
   "outputs": [],
   "source": []
  },
  {
   "cell_type": "markdown",
   "metadata": {},
   "source": [
    "## *Sentiment Analysis - Textblob"
   ]
  },
  {
   "cell_type": "markdown",
   "metadata": {},
   "source": [
    "\n",
    "\n",
    "1. **TextBlob Module:** Linguistic researchers have labeled the sentiment of words based on their domain expertise. Sentiment of words can vary based on where it is in a sentence. The TextBlob module allows us to take advantage of these labels.\n",
    "2. **Sentiment Labels:** Each word in a corpus is labeled in terms of polarity and subjectivity (there are more labels as well, but we're going to ignore them for now). A corpus' sentiment is the average of these.\n",
    "   * **Polarity**: How positive or negative a word is. -1 is very negative. +1 is very positive.\n",
    "   * **Subjectivity**: How subjective, or opinionated a word is. 0 is fact. +1 is very much an opinion.\n",
    "\n",
    "For more info on how TextBlob coded up its [sentiment function](https://planspace.org/20150607-textblob_sentiment/).\n",
    "\n",
    "Let's take a look at the sentiment of the various transcripts, both overall and throughout the comedy routine."
   ]
  },
  {
   "cell_type": "code",
   "execution_count": 49,
   "metadata": {
    "ExecuteTime": {
     "end_time": "2020-06-06T14:45:00.569678Z",
     "start_time": "2020-06-06T14:44:59.920420Z"
    }
   },
   "outputs": [],
   "source": [
    "#!pip install textblob\n",
    "from textblob import TextBlob\n",
    "from bs4 import BeautifulSoup\n",
    "import requests\n",
    "import matplotlib.pyplot as plt\n",
    "import pandas as pd"
   ]
  },
  {
   "cell_type": "code",
   "execution_count": 50,
   "metadata": {},
   "outputs": [
    {
     "data": {
      "text/plain": [
       "Sentiment(polarity=-0.09999999999999992, subjectivity=0.8333333333333333)"
      ]
     },
     "execution_count": 50,
     "metadata": {},
     "output_type": "execute_result"
    }
   ],
   "source": [
    " TextBlob('the weather today is bad :)').sentiment"
   ]
  },
  {
   "cell_type": "code",
   "execution_count": 51,
   "metadata": {},
   "outputs": [
    {
     "data": {
      "text/plain": [
       "Sentiment(polarity=-0.7249999999999999, subjectivity=0.8333333333333333)"
      ]
     },
     "execution_count": 51,
     "metadata": {},
     "output_type": "execute_result"
    }
   ],
   "source": [
    " TextBlob('the weather today is bad :(').sentiment"
   ]
  },
  {
   "cell_type": "code",
   "execution_count": 52,
   "metadata": {},
   "outputs": [
    {
     "data": {
      "text/plain": [
       "Sentiment(polarity=0.7, subjectivity=0.6000000000000001)"
      ]
     },
     "execution_count": 52,
     "metadata": {},
     "output_type": "execute_result"
    }
   ],
   "source": [
    " TextBlob('the weather is good').sentiment"
   ]
  },
  {
   "cell_type": "code",
   "execution_count": 53,
   "metadata": {},
   "outputs": [
    {
     "data": {
      "text/plain": [
       "Sentiment(polarity=0.0, subjectivity=0.0)"
      ]
     },
     "execution_count": 53,
     "metadata": {},
     "output_type": "execute_result"
    }
   ],
   "source": [
    " TextBlob('it rained today').sentiment"
   ]
  },
  {
   "cell_type": "markdown",
   "metadata": {},
   "source": [
    "### Sentiment Analysis on Music Lyrics\n",
    "\n",
    "- input song lyrics & returns plot on how positive/negative and fact/opinion the lyric are"
   ]
  },
  {
   "cell_type": "code",
   "execution_count": 54,
   "metadata": {
    "ExecuteTime": {
     "end_time": "2020-06-06T14:44:50.256142Z",
     "start_time": "2020-06-06T14:44:17.077315Z"
    }
   },
   "outputs": [
    {
     "name": "stdout",
     "output_type": "stream",
     "text": [
      "https://www.lyrics.com/lyric/36863481/Justin+Bieber/Yummy\n",
      "https://www.lyrics.com/lyric/35362456/Ed+Sheeran/Castle+on+the+Hill\n",
      "https://www.lyrics.com/lyric/35342586/Taylor+Swift/22\n",
      "https://www.lyrics.com/lyric/36147543/Kygo/Happy+Now\n",
      "https://www.lyrics.com/sublyric/58125/Lauv/Superhero\n",
      "https://www.lyrics.com/lyric/30514737/Fix+You\n",
      "https://www.lyrics.com/lyric/32981724/One+Direction/Perfect\n",
      "https://www.lyrics.com/lyric/36489666/Bahari/Crashing\n",
      "https://www.lyrics.com/lyric/33787626/ROZES/Matches\n",
      "https://www.lyrics.com/lyric/36341880/Maroon+5/She+Will+Be+Loved\n",
      "https://www.lyrics.com/lyric/25306933/Queen/Dont+Stop+Me+Now\n",
      "https://www.lyrics.com/lyric/31781320/Eric+Clapton/Tears+In+Heaven\n"
     ]
    }
   ],
   "source": [
    "# will take > 5 mins to complete\n",
    "\n",
    "def scrape_lyrics(url):\n",
    "    page = requests.get(url)\n",
    "    html = BeautifulSoup(page.text, \"html.parser\")\n",
    "    lyrics = html.find(\"pre\", class_=\"lyric-body\").get_text()\n",
    "    print(url)\n",
    "    #print(lyrics)\n",
    "    return lyrics.replace(\"\\n\",\" \")\n",
    "\n",
    "\n",
    "links = ['https://www.lyrics.com/lyric/36863481/Justin+Bieber/Yummy',\n",
    "     'https://www.lyrics.com/lyric/35362456/Ed+Sheeran/Castle+on+the+Hill',\n",
    "     'https://www.lyrics.com/lyric/35342586/Taylor+Swift/22',\n",
    "     'https://www.lyrics.com/lyric/36147543/Kygo/Happy+Now',\n",
    "     'https://www.lyrics.com/sublyric/58125/Lauv/Superhero',\n",
    "     'https://www.lyrics.com/lyric/30514737/Fix+You',\n",
    "     'https://www.lyrics.com/lyric/32981724/One+Direction/Perfect',\n",
    "     'https://www.lyrics.com/lyric/36489666/Bahari/Crashing',\n",
    "     'https://www.lyrics.com/lyric/33787626/ROZES/Matches',\n",
    "     'https://www.lyrics.com/lyric/36341880/Maroon+5/She+Will+Be+Loved',\n",
    "     'https://www.lyrics.com/lyric/25306933/Queen/Dont+Stop+Me+Now',\n",
    "     'https://www.lyrics.com/lyric/31781320/Eric+Clapton/Tears+In+Heaven']\n",
    "\n",
    "\n",
    "lyrics = [scrape_lyrics(link) for link in links]\n",
    "\n",
    "artists = ['JustinBieber', 'EdSheeran', 'TaylorSwift', 'Kygo', 'Lauv', 'Coldplay', 'OneDirection','Bahari','Rozes','Maroon5', 'Queen', 'EricClapton']\n",
    "\n",
    "#fun fact: queen dont stop me now is apparently the happiest song, and eric clapton is supposedly a sad song\n",
    "# https://www.indy100.com/article/dont-stop-me-now-is-the-happiest-song-in-the-world-according-to-a-neuroscientist-7318321\n",
    "#but there's more to the what affects the sentiment of the song, not just the lyrics, e.g. tempo"
   ]
  },
  {
   "cell_type": "code",
   "execution_count": 55,
   "metadata": {
    "ExecuteTime": {
     "end_time": "2020-06-06T14:46:37.336217Z",
     "start_time": "2020-06-06T14:46:37.104772Z"
    }
   },
   "outputs": [
    {
     "data": {
      "image/png": "[encoded data removed]",
      "text/plain": [
       "<Figure size 720x576 with 1 Axes>"
      ]
     },
     "metadata": {
      "needs_background": "dark"
     },
     "output_type": "display_data"
    }
   ],
   "source": [
    "# plotting the chart\n",
    "df = pd.DataFrame({'Lyrics':lyrics}, index=artists)\n",
    "\n",
    "pol = lambda x: TextBlob(x).sentiment.polarity\n",
    "sub = lambda x: TextBlob(x).sentiment.subjectivity\n",
    "df['polarity'] = df['Lyrics'].apply(pol)\n",
    "df['subjectivity'] = df['Lyrics'].apply(sub)\n",
    "\n",
    "plt.rcParams['figure.figsize'] = [10, 8]\n",
    "\n",
    "for artist in df.index:\n",
    "    x = df.polarity.loc[artist]\n",
    "    y = df.subjectivity.loc[artist]\n",
    "    plt.scatter(x, y, color='green')\n",
    "    plt.text(x+.001, y+.001, artist, fontsize=10)\n",
    "    plt.xlim(-.7, .7) \n",
    "    plt.ylim(0,1) \n",
    "    \n",
    "plt.title('Sentiment Analysis', fontsize=20)\n",
    "plt.xlabel('<-- Negative ---------- Positive -->', fontsize=15)\n",
    "plt.ylabel('<-- Facts -------- Opinions -->', fontsize=15)\n",
    "\n",
    "plt.show()"
   ]
  },
  {
   "cell_type": "markdown",
   "metadata": {},
   "source": [
    "# Natural Language Generation"
   ]
  },
  {
   "cell_type": "code",
   "execution_count": 56,
   "metadata": {
    "ExecuteTime": {
     "end_time": "2020-06-06T15:20:05.272076Z",
     "start_time": "2020-06-06T15:20:01.349398Z"
    }
   },
   "outputs": [
    {
     "name": "stderr",
     "output_type": "stream",
     "text": [
      "Neither PyTorch nor TensorFlow >= 2.0 have been found.Models won't be available and only tokenizers, configurationand file/data utilities can be used.\n"
     ]
    }
   ],
   "source": [
    "import pandas as pd\n",
    "import markovify \n",
    "import ipywidgets as widgets\n",
    "from transformers import pipeline"
   ]
  },
  {
   "cell_type": "markdown",
   "metadata": {},
   "source": [
    "## Markov Chains\n",
    "\n",
    "- Data/challenge source : https://www.kaggle.com/therohk/million-headlines\n",
    "- predicting the next word from typed sentence"
   ]
  },
  {
   "cell_type": "code",
   "execution_count": 57,
   "metadata": {
    "ExecuteTime": {
     "end_time": "2020-06-06T15:10:39.454538Z",
     "start_time": "2020-06-06T15:10:30.282305Z"
    }
   },
   "outputs": [],
   "source": [
    "#!pip install markovify"
   ]
  },
  {
   "cell_type": "code",
   "execution_count": 60,
   "metadata": {
    "ExecuteTime": {
     "end_time": "2020-06-06T15:10:51.679026Z",
     "start_time": "2020-06-06T15:10:51.668789Z"
    }
   },
   "outputs": [],
   "source": [
    "import pandas as pd\n",
    "import markovify \n"
   ]
  },
  {
   "cell_type": "code",
   "execution_count": 61,
   "metadata": {
    "ExecuteTime": {
     "end_time": "2020-06-06T15:10:55.736510Z",
     "start_time": "2020-06-06T15:10:55.697323Z"
    }
   },
   "outputs": [
    {
     "data": {
      "text/html": [
       "<div>\n",
       "<style scoped>\n",
       "    .dataframe tbody tr th:only-of-type {\n",
       "        vertical-align: middle;\n",
       "    }\n",
       "\n",
       "    .dataframe tbody tr th {\n",
       "        vertical-align: top;\n",
       "    }\n",
       "\n",
       "    .dataframe thead th {\n",
       "        text-align: right;\n",
       "    }\n",
       "</style>\n",
       "<table border=\"1\" class=\"dataframe\">\n",
       "  <thead>\n",
       "    <tr style=\"text-align: right;\">\n",
       "      <th></th>\n",
       "      <th>publish_date</th>\n",
       "      <th>headline_text</th>\n",
       "    </tr>\n",
       "  </thead>\n",
       "  <tbody>\n",
       "    <tr>\n",
       "      <th>0</th>\n",
       "      <td>20030219</td>\n",
       "      <td>aba decides against community broadcasting lic...</td>\n",
       "    </tr>\n",
       "    <tr>\n",
       "      <th>1</th>\n",
       "      <td>20030219</td>\n",
       "      <td>act fire witnesses must be aware of defamation</td>\n",
       "    </tr>\n",
       "    <tr>\n",
       "      <th>2</th>\n",
       "      <td>20030219</td>\n",
       "      <td>a g calls for infrastructure protection summit</td>\n",
       "    </tr>\n",
       "    <tr>\n",
       "      <th>3</th>\n",
       "      <td>20030219</td>\n",
       "      <td>air nz staff in aust strike for pay rise</td>\n",
       "    </tr>\n",
       "    <tr>\n",
       "      <th>4</th>\n",
       "      <td>20030219</td>\n",
       "      <td>air nz strike to affect australian travellers</td>\n",
       "    </tr>\n",
       "  </tbody>\n",
       "</table>\n",
       "</div>"
      ],
      "text/plain": [
       "   publish_date                                      headline_text\n",
       "0      20030219  aba decides against community broadcasting lic...\n",
       "1      20030219     act fire witnesses must be aware of defamation\n",
       "2      20030219     a g calls for infrastructure protection summit\n",
       "3      20030219           air nz staff in aust strike for pay rise\n",
       "4      20030219      air nz strike to affect australian travellers"
      ]
     },
     "execution_count": 61,
     "metadata": {},
     "output_type": "execute_result"
    }
   ],
   "source": [
    "df_news_headlines = pd.read_csv('abcnews-date-text.csv')\n",
    "df_news_headlines.head()"
   ]
  },
  {
   "cell_type": "code",
   "execution_count": 62,
   "metadata": {},
   "outputs": [],
   "source": [
    "# takes > 2 mins to complete running \n",
    "\n",
    "text_model = markovify.NewlineText(df_news_headlines.headline_text, state_size = 2)"
   ]
  },
  {
   "cell_type": "code",
   "execution_count": 63,
   "metadata": {
    "ExecuteTime": {
     "end_time": "2020-06-06T15:18:12.880781Z",
     "start_time": "2020-06-06T15:18:12.862721Z"
    }
   },
   "outputs": [
    {
     "name": "stdout",
     "output_type": "stream",
     "text": [
      "anz last to clinch portugal title\n",
      "police hunt for suspected shooting\n",
      "bowen refuses to hand preference\n",
      "afl interview nathan lyon and australia\n",
      "huawei china us relations will endure\n",
      "more then he can afford kieran foran to announce australian tour\n",
      "american actress and comedian in hot water bottle\n",
      "kavanagh seeks derby delight for nicole kidman leads the way\n",
      "ex cyclone tim looms off the job on spy charge\n",
      "qld transport body backs positive govt report endorses student voucher system to address labor cabinet unveiled wa election\n"
     ]
    }
   ],
   "source": [
    "# Print ten randomly-generated sentences using the built model\n",
    "for i in range(10):\n",
    "    print(text_model.make_sentence())"
   ]
  },
  {
   "cell_type": "code",
   "execution_count": 64,
   "metadata": {
    "ExecuteTime": {
     "end_time": "2020-06-06T15:18:37.071873Z",
     "start_time": "2020-06-06T15:18:37.058490Z"
    }
   },
   "outputs": [
    {
     "name": "stdout",
     "output_type": "stream",
     "text": [
      "clp demands release of criminal history\n",
      "call for crackdown on tired truckies must take stand in murder case\n",
      "mcnamara releases 300m fraser coast responds well to wharf\n",
      "news exchange picking a means to you and the looming internet filter\n",
      "nt govt offers business assurances amidst funding doubts for gladstone area water aquifer snowy mountains\n",
      "relatives to help hunter farmers keenly awaiting spring rain records\n",
      "coast volleyball player to honours list\n",
      "tina selling mangoes and war\n",
      "council looks to improve safey on appin road fatality\n",
      "woods slips off runway st johns care free food canola\n"
     ]
    }
   ],
   "source": [
    "for i in range(10):\n",
    "    print(text_model.make_short_sentence(1000))"
   ]
  },
  {
   "cell_type": "code",
   "execution_count": null,
   "metadata": {},
   "outputs": [],
   "source": []
  },
  {
   "cell_type": "markdown",
   "metadata": {},
   "source": [
    "# References and other links"
   ]
  },
  {
   "cell_type": "markdown",
   "metadata": {},
   "source": [
    "1. https://www.nltk.org/index.html\n",
    "2. https://github.com/adashofdata\n",
    "3. https://github.com/adashofdata/nlp-in-python-tutorial\n",
    "4. https://github.com/jsvine/markovify\n",
    "5. https://www.twilio.com/blog/2016/09/fun-with-markov-chains-python-and-twilio-sms.html\n",
    "6. https://github.com/huggingface\n",
    "7. http://jalammar.github.io/illustrated-transformer/\n",
    "8. https://papers.nips.cc/paper/7181-attention-is-all-you-need.pdf\n",
    "9. https://www.ling.upenn.edu/courses/Fall_2003/ling001/penn_treebank_pos.html\n",
    "10. https://mccormickml.com/2019/07/22/BERT-fine-tuning/\n",
    "11. https://huggingface.co/transformers/pretrained_models.html\n",
    "12. https://huggingface.co/transformers/usage.html\n",
    "13. https://scikit-learn.org/stable/auto_examples/classification/plot_classifier_comparison.html"
   ]
  },
  {
   "cell_type": "code",
   "execution_count": null,
   "metadata": {},
   "outputs": [],
   "source": []
  }
 ],
 "metadata": {
  "kernelspec": {
   "display_name": "Python 3",
   "language": "python",
   "name": "python3"
  },
  "language_info": {
   "codemirror_mode": {
    "name": "ipython",
    "version": 3
   },
   "file_extension": ".py",
   "mimetype": "text/x-python",
   "name": "python",
   "nbconvert_exporter": "python",
   "pygments_lexer": "ipython3",
   "version": "3.6.10"
  },
  "toc": {
   "base_numbering": 1,
   "nav_menu": {},
   "number_sections": true,
   "sideBar": true,
   "skip_h1_title": false,
   "title_cell": "Table of Contents",
   "title_sidebar": "Contents",
   "toc_cell": false,
   "toc_position": {},
   "toc_section_display": true,
   "toc_window_display": false
  }
 },
 "nbformat": 4,
 "nbformat_minor": 4
}
